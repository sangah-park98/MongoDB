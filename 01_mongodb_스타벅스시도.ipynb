{
 "cells": [
  {
   "cell_type": "code",
   "execution_count": 1,
   "id": "d9ba529d",
   "metadata": {},
   "outputs": [],
   "source": [
    "import warnings\n",
    "warnings.filterwarnings(action='ignore')\n",
    "# pip install pymongo\n",
    "import pymongo # MongoDB를 사용하기 위해 import한다.\n",
    "import requests"
   ]
  },
  {
   "cell_type": "code",
   "execution_count": null,
   "id": "69b34f81",
   "metadata": {},
   "outputs": [],
   "source": [
    "# MongoDB에 연결하고 데이터베이스 목록을 얻어온다.\n",
    "mongoConnection = pymongo.MongoClient('mongodb://localhost:27017') # MongoDB에 연결한다.\n",
    "databaseList = mongoConnection.list_database_names() # 데이터베이스 목록을 얻어온다.\n",
    "print(databaseList)\n",
    "\n",
    "# starbucks 데이터베이스가 존재하는지 확인한다.\n",
    "if 'starbucks' in databaseList:\n",
    "    print('starbucks 데이터베이스가 존재합니다.')\n",
    "else:\n",
    "    print('starbucks 데이터베이스가 존재하지 않습니다.')\n",
    "    \n",
    "# starbucks 데이터베이스가 존재하지 않으면 데이터베이스를 만들고 사용할 준비를 하고 존재하면 사용할 준비를 한다.\n",
    "starbucks = mongoConnection['starbucks'] # MongoDB에서 use starbucks라고 쓰는 것과 동일\n",
    "# sido 컬렉션이 존재하지 않으면 컬렉션을 만들어 사용할 준비를 하고 존재하면 바로 사용할 준비를 한다.\n",
    "sido = starbucks['sido'] # db.createCollection('sido')\n",
    "# sido 컬렉션에 저장된 모든 데이터를 제거한다. (=중복해서 계속 들어가는 데이터를 방지해준다.)\n",
    "sido.delete_many({})\n",
    "\n",
    "# MongoDB에 저장할 내용을 크롤링해서 딕셔너리 형태로 만들어 리스트에 저장한다.\n",
    "request = requests.post('https://www.starbucks.co.kr/store/getSidoList.do').json()\n",
    "# print(type(request))\n",
    "# print(request)\n",
    "sidoList = []\n",
    "for r in request['list']:\n",
    "    # print(r)\n",
    "    d = {'sido_cd': r['sido_cd'].strip(), 'sido_nm': r.get('sido_nm').strip()}\n",
    "    # print(d)\n",
    "    sidoList.append(d)\n",
    "print(sidoList)\n",
    "\n",
    "# MongoDB에 도큐먼트를 저장한다.\n",
    "for s in sidoList:\n",
    "    sido.insert_one(s)\n"
   ]
  },
  {
   "cell_type": "code",
   "execution_count": 4,
   "id": "9bed2c35",
   "metadata": {},
   "outputs": [
    {
     "name": "stdout",
     "output_type": "stream",
     "text": [
      "{'sido_cd': '01', 'sido_nm': '서울'}\n",
      "{'sido_cd': '08', 'sido_nm': '경기'}\n",
      "{'sido_cd': '02', 'sido_nm': '광주'}\n",
      "{'sido_cd': '03', 'sido_nm': '대구'}\n",
      "{'sido_cd': '04', 'sido_nm': '대전'}\n",
      "{'sido_cd': '05', 'sido_nm': '부산'}\n",
      "{'sido_cd': '06', 'sido_nm': '울산'}\n",
      "{'sido_cd': '07', 'sido_nm': '인천'}\n",
      "{'sido_cd': '09', 'sido_nm': '강원'}\n",
      "{'sido_cd': '10', 'sido_nm': '경남'}\n",
      "{'sido_cd': '11', 'sido_nm': '경북'}\n",
      "{'sido_cd': '12', 'sido_nm': '전남'}\n",
      "{'sido_cd': '13', 'sido_nm': '전북'}\n",
      "{'sido_cd': '14', 'sido_nm': '충남'}\n",
      "{'sido_cd': '15', 'sido_nm': '충북'}\n",
      "{'sido_cd': '16', 'sido_nm': '제주'}\n",
      "{'sido_cd': '17', 'sido_nm': '세종'}\n"
     ]
    }
   ],
   "source": [
    "# MongoDB의 starbucks 데이터베이스의 sido 컬렉션에 저장된 데이터를 얻어온다.\n",
    "mongoConnection = pymongo.MongoClient('mongodb://localhost:27017')\n",
    "starbucks = mongoConnection['starbucks']\n",
    "sido = starbucks['sido']\n",
    "sidoList = sido.find({}, {'_id':0}) # find({}, <= 조건 적는 부분)\n",
    "                     # = {'_id': 0, 'sido_cd': 1, 'sido_nm': 1}\n",
    "for s in sidoList:\n",
    "    print(s)"
   ]
  },
  {
   "cell_type": "code",
   "execution_count": null,
   "id": "3bf3086c",
   "metadata": {},
   "outputs": [],
   "source": []
  },
  {
   "cell_type": "code",
   "execution_count": null,
   "id": "2d84d03a",
   "metadata": {},
   "outputs": [],
   "source": []
  },
  {
   "cell_type": "code",
   "execution_count": null,
   "id": "bb97fcbe",
   "metadata": {},
   "outputs": [],
   "source": []
  },
  {
   "cell_type": "code",
   "execution_count": null,
   "id": "b4a1bfd4",
   "metadata": {},
   "outputs": [],
   "source": []
  },
  {
   "cell_type": "code",
   "execution_count": null,
   "id": "fd10f25f",
   "metadata": {},
   "outputs": [],
   "source": []
  },
  {
   "cell_type": "code",
   "execution_count": null,
   "id": "20f16bcc",
   "metadata": {},
   "outputs": [],
   "source": []
  },
  {
   "cell_type": "code",
   "execution_count": null,
   "id": "d83058c1",
   "metadata": {},
   "outputs": [],
   "source": []
  },
  {
   "cell_type": "code",
   "execution_count": null,
   "id": "bcafe857",
   "metadata": {},
   "outputs": [],
   "source": []
  },
  {
   "cell_type": "code",
   "execution_count": null,
   "id": "ec665a0c",
   "metadata": {},
   "outputs": [],
   "source": []
  },
  {
   "cell_type": "code",
   "execution_count": null,
   "id": "58d76baa",
   "metadata": {},
   "outputs": [],
   "source": []
  },
  {
   "cell_type": "code",
   "execution_count": null,
   "id": "2e38a094",
   "metadata": {},
   "outputs": [],
   "source": []
  },
  {
   "cell_type": "code",
   "execution_count": null,
   "id": "0ee09e3b",
   "metadata": {},
   "outputs": [],
   "source": []
  }
 ],
 "metadata": {
  "kernelspec": {
   "display_name": "Python 3",
   "language": "python",
   "name": "python3"
  },
  "language_info": {
   "codemirror_mode": {
    "name": "ipython",
    "version": 3
   },
   "file_extension": ".py",
   "mimetype": "text/x-python",
   "name": "python",
   "nbconvert_exporter": "python",
   "pygments_lexer": "ipython3",
   "version": "3.6.8"
  }
 },
 "nbformat": 4,
 "nbformat_minor": 5
}
